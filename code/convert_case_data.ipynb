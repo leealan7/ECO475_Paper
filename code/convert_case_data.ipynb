{
 "cells": [
  {
   "cell_type": "code",
   "execution_count": 2,
   "metadata": {},
   "outputs": [],
   "source": [
    "import pandas as pd\n",
    "import json\n",
    "\n",
    "f = open('../data/d_cases_short.json', 'r')\n",
    "data = json.load(f)\n",
    "type(data)\n",
    "\n",
    "df = pd.DataFrame(data)\n",
    "df.columns = ['id', 'date', 'county', 'cases']\n",
    "df\n",
    "df.to_csv('../data/cases_daily.csv', index=False)"
   ]
  }
 ],
 "metadata": {
  "kernelspec": {
   "display_name": "base",
   "language": "python",
   "name": "python3"
  },
  "language_info": {
   "codemirror_mode": {
    "name": "ipython",
    "version": 3
   },
   "file_extension": ".py",
   "mimetype": "text/x-python",
   "name": "python",
   "nbconvert_exporter": "python",
   "pygments_lexer": "ipython3",
   "version": "3.9.18"
  }
 },
 "nbformat": 4,
 "nbformat_minor": 2
}
